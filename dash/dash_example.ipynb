{
 "cells": [
  {
   "cell_type": "code",
   "execution_count": 10,
   "metadata": {},
   "outputs": [],
   "source": [
    "import pandas as pd\n",
    "\n",
    "# Plots\n",
    "import matplotlib.pyplot as plt\n",
    "import plotly.express as px\n",
    "\n",
    "# Dash\n",
    "import dash\n",
    "from jupyter_dash import JupyterDash\n",
    "import dash_core_components as dcc\n",
    "import dash_html_components as html\n",
    "from dash.dependencies import Input, Output"
   ]
  },
  {
   "cell_type": "markdown",
   "metadata": {},
   "source": [
    "## Load data"
   ]
  },
  {
   "cell_type": "code",
   "execution_count": 11,
   "metadata": {},
   "outputs": [
    {
     "data": {
      "text/html": [
       "<div>\n",
       "<style scoped>\n",
       "    .dataframe tbody tr th:only-of-type {\n",
       "        vertical-align: middle;\n",
       "    }\n",
       "\n",
       "    .dataframe tbody tr th {\n",
       "        vertical-align: top;\n",
       "    }\n",
       "\n",
       "    .dataframe thead th {\n",
       "        text-align: right;\n",
       "    }\n",
       "</style>\n",
       "<table border=\"1\" class=\"dataframe\">\n",
       "  <thead>\n",
       "    <tr style=\"text-align: right;\">\n",
       "      <th></th>\n",
       "      <th>id</th>\n",
       "      <th>timestamp</th>\n",
       "      <th>duration</th>\n",
       "      <th>emissions</th>\n",
       "      <th>energy_consumed</th>\n",
       "      <th>run_id</th>\n",
       "    </tr>\n",
       "  </thead>\n",
       "  <tbody>\n",
       "    <tr>\n",
       "      <th>0</th>\n",
       "      <td>\"09f00cfb-0f8c-4322-b717-fe21351af364\"</td>\n",
       "      <td>2021-06-15 17:47:31.798113</td>\n",
       "      <td>29.0</td>\n",
       "      <td>0.000052</td>\n",
       "      <td>0.000123</td>\n",
       "      <td>\"731e791d-dd75-44a1-a253-b875bdc7ffbf\"</td>\n",
       "    </tr>\n",
       "    <tr>\n",
       "      <th>1</th>\n",
       "      <td>\"37c1e971-4818-444b-b155-93482e1e5877\"</td>\n",
       "      <td>2021-06-15 17:47:01.831489</td>\n",
       "      <td>30.0</td>\n",
       "      <td>0.000044</td>\n",
       "      <td>0.000104</td>\n",
       "      <td>\"731e791d-dd75-44a1-a253-b875bdc7ffbf\"</td>\n",
       "    </tr>\n",
       "    <tr>\n",
       "      <th>2</th>\n",
       "      <td>\"741059bd-d13c-49a4-96ca-7bf3f90d3c90\"</td>\n",
       "      <td>2021-06-15 17:46:31.790478</td>\n",
       "      <td>30.0</td>\n",
       "      <td>0.000054</td>\n",
       "      <td>0.000126</td>\n",
       "      <td>\"731e791d-dd75-44a1-a253-b875bdc7ffbf\"</td>\n",
       "    </tr>\n",
       "    <tr>\n",
       "      <th>3</th>\n",
       "      <td>\"364532c6-0b27-44f8-8372-c557a1ac3f62\"</td>\n",
       "      <td>2021-06-15 17:46:01.797756</td>\n",
       "      <td>29.0</td>\n",
       "      <td>0.000043</td>\n",
       "      <td>0.000102</td>\n",
       "      <td>\"731e791d-dd75-44a1-a253-b875bdc7ffbf\"</td>\n",
       "    </tr>\n",
       "    <tr>\n",
       "      <th>4</th>\n",
       "      <td>\"032ddb31-c06f-4a87-8b95-98207e1f89ab\"</td>\n",
       "      <td>2021-06-15 17:45:31.808544</td>\n",
       "      <td>30.0</td>\n",
       "      <td>0.000045</td>\n",
       "      <td>0.000106</td>\n",
       "      <td>\"731e791d-dd75-44a1-a253-b875bdc7ffbf\"</td>\n",
       "    </tr>\n",
       "  </tbody>\n",
       "</table>\n",
       "</div>"
      ],
      "text/plain": [
       "                                       id                  timestamp  \\\n",
       "0  \"09f00cfb-0f8c-4322-b717-fe21351af364\" 2021-06-15 17:47:31.798113   \n",
       "1  \"37c1e971-4818-444b-b155-93482e1e5877\" 2021-06-15 17:47:01.831489   \n",
       "2  \"741059bd-d13c-49a4-96ca-7bf3f90d3c90\" 2021-06-15 17:46:31.790478   \n",
       "3  \"364532c6-0b27-44f8-8372-c557a1ac3f62\" 2021-06-15 17:46:01.797756   \n",
       "4  \"032ddb31-c06f-4a87-8b95-98207e1f89ab\" 2021-06-15 17:45:31.808544   \n",
       "\n",
       "   duration  emissions  energy_consumed  \\\n",
       "0      29.0   0.000052         0.000123   \n",
       "1      30.0   0.000044         0.000104   \n",
       "2      30.0   0.000054         0.000126   \n",
       "3      29.0   0.000043         0.000102   \n",
       "4      30.0   0.000045         0.000106   \n",
       "\n",
       "                                   run_id  \n",
       "0  \"731e791d-dd75-44a1-a253-b875bdc7ffbf\"  \n",
       "1  \"731e791d-dd75-44a1-a253-b875bdc7ffbf\"  \n",
       "2  \"731e791d-dd75-44a1-a253-b875bdc7ffbf\"  \n",
       "3  \"731e791d-dd75-44a1-a253-b875bdc7ffbf\"  \n",
       "4  \"731e791d-dd75-44a1-a253-b875bdc7ffbf\"  "
      ]
     },
     "execution_count": 11,
     "metadata": {},
     "output_type": "execute_result"
    }
   ],
   "source": [
    "# Load energy data\n",
    "df_api = pd.read_csv('api_extract.csv', parse_dates=['timestamp'])\n",
    "df_api.head()"
   ]
  },
  {
   "cell_type": "markdown",
   "metadata": {},
   "source": [
    "## Filter by week using slider"
   ]
  },
  {
   "cell_type": "code",
   "execution_count": 12,
   "metadata": {},
   "outputs": [
    {
     "data": {
      "text/plain": [
       "<AxesSubplot:>"
      ]
     },
     "execution_count": 12,
     "metadata": {},
     "output_type": "execute_result"
    },
    {
     "data": {
      "image/png": "[encoded data removed]",
      "text/plain": [
       "<Figure size 432x288 with 1 Axes>"
      ]
     },
     "metadata": {
      "needs_background": "light"
     },
     "output_type": "display_data"
    }
   ],
   "source": [
    "df_api['timestamp'].apply(lambda dt: dt.week).hist()"
   ]
  },
  {
   "cell_type": "code",
   "execution_count": 13,
   "metadata": {},
   "outputs": [],
   "source": [
    "# Build week field\n",
    "weeks = df_api['timestamp'].apply(lambda dt: dt.week).unique()  # 23, 24\n",
    "weeks.sort()"
   ]
  },
  {
   "cell_type": "code",
   "execution_count": null,
   "metadata": {},
   "outputs": [],
   "source": [
    "app = dash.Dash(__name__)\n",
    "\n",
    "app.layout = html.Div([\n",
    "    html.H1(\"Energy Consumed\"),\n",
    "    dcc.Graph(id='graph-with-slider'),\n",
    "    dcc.Slider(\n",
    "        id='week-slider',\n",
    "        min=weeks.min(),\n",
    "        max=weeks.max(),\n",
    "        value=weeks.min(),\n",
    "        marks={str(week): str(week) for week in weeks},\n",
    "        step=None\n",
    "    )\n",
    "])\n",
    "\n",
    "\n",
    "@app.callback(\n",
    "    Output('graph-with-slider', 'figure'),\n",
    "    Input('week-slider', 'value'))\n",
    "def update_figure(selected_week):\n",
    "    filtered_df = df_api[df_api['timestamp'].apply(lambda dt: dt.week) == selected_week]\n",
    "    fig = px.scatter(filtered_df, x=\"timestamp\", y=\"energy_consumed\")\n",
    "    fig.update_layout(transition_duration=500)\n",
    "    return fig\n",
    "\n",
    "app.run_server()"
   ]
  },
  {
   "cell_type": "code",
   "execution_count": null,
   "metadata": {},
   "outputs": [],
   "source": []
  }
 ],
 "metadata": {
  "interpreter": {
   "hash": "fb9fa48626cef08df783553c5b1796de4d5ccd3879af604460ecd3245d8abb4d"
  },
  "kernelspec": {
   "display_name": "Python 3.8.10 64-bit ('codecarbon': conda)",
   "name": "python3"
  },
  "language_info": {
   "codemirror_mode": {
    "name": "ipython",
    "version": 3
   },
   "file_extension": ".py",
   "mimetype": "text/x-python",
   "name": "python",
   "nbconvert_exporter": "python",
   "pygments_lexer": "ipython3",
   "version": "3.8.10"
  },
  "orig_nbformat": 4
 },
 "nbformat": 4,
 "nbformat_minor": 2
}