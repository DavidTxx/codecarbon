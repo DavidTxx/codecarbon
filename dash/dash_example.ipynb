{
 "cells": [
  {
   "cell_type": "code",
   "execution_count": 5,
   "metadata": {},
   "outputs": [],
   "source": [
    "import pandas as pd\n",
    "import plotly.express as px\n",
    "from jupyter_dash import JupyterDash\n",
    "import dash_core_components as dcc\n",
    "import dash_html_components as html\n",
    "from dash.dependencies import Input, Output"
   ]
  },
  {
   "cell_type": "code",
   "execution_count": 10,
   "metadata": {},
   "outputs": [],
   "source": [
    "# Settings\n",
    "DISPLAY_MODE = 'external'  # [external, inline]"
   ]
  },
  {
   "cell_type": "code",
   "execution_count": 6,
   "metadata": {},
   "outputs": [],
   "source": [
    "# Load energy data\n",
    "df_api = pd.read_csv('api_extract.csv')"
   ]
  },
  {
   "cell_type": "code",
   "execution_count": 13,
   "metadata": {},
   "outputs": [
    {
     "data": {
      "text/html": [
       "<div>\n",
       "<style scoped>\n",
       "    .dataframe tbody tr th:only-of-type {\n",
       "        vertical-align: middle;\n",
       "    }\n",
       "\n",
       "    .dataframe tbody tr th {\n",
       "        vertical-align: top;\n",
       "    }\n",
       "\n",
       "    .dataframe thead th {\n",
       "        text-align: right;\n",
       "    }\n",
       "</style>\n",
       "<table border=\"1\" class=\"dataframe\">\n",
       "  <thead>\n",
       "    <tr style=\"text-align: right;\">\n",
       "      <th></th>\n",
       "      <th>id</th>\n",
       "      <th>timestamp</th>\n",
       "      <th>duration</th>\n",
       "      <th>emissions</th>\n",
       "      <th>energy_consumed</th>\n",
       "      <th>run_id</th>\n",
       "    </tr>\n",
       "  </thead>\n",
       "  <tbody>\n",
       "    <tr>\n",
       "      <th>0</th>\n",
       "      <td>\"09f00cfb-0f8c-4322-b717-fe21351af364\"</td>\n",
       "      <td>2021-06-15 17:47:31.798113</td>\n",
       "      <td>29.0</td>\n",
       "      <td>0.000052</td>\n",
       "      <td>0.000123</td>\n",
       "      <td>\"731e791d-dd75-44a1-a253-b875bdc7ffbf\"</td>\n",
       "    </tr>\n",
       "    <tr>\n",
       "      <th>1</th>\n",
       "      <td>\"37c1e971-4818-444b-b155-93482e1e5877\"</td>\n",
       "      <td>2021-06-15 17:47:01.831489</td>\n",
       "      <td>30.0</td>\n",
       "      <td>0.000044</td>\n",
       "      <td>0.000104</td>\n",
       "      <td>\"731e791d-dd75-44a1-a253-b875bdc7ffbf\"</td>\n",
       "    </tr>\n",
       "    <tr>\n",
       "      <th>2</th>\n",
       "      <td>\"741059bd-d13c-49a4-96ca-7bf3f90d3c90\"</td>\n",
       "      <td>2021-06-15 17:46:31.790478</td>\n",
       "      <td>30.0</td>\n",
       "      <td>0.000054</td>\n",
       "      <td>0.000126</td>\n",
       "      <td>\"731e791d-dd75-44a1-a253-b875bdc7ffbf\"</td>\n",
       "    </tr>\n",
       "    <tr>\n",
       "      <th>3</th>\n",
       "      <td>\"364532c6-0b27-44f8-8372-c557a1ac3f62\"</td>\n",
       "      <td>2021-06-15 17:46:01.797756</td>\n",
       "      <td>29.0</td>\n",
       "      <td>0.000043</td>\n",
       "      <td>0.000102</td>\n",
       "      <td>\"731e791d-dd75-44a1-a253-b875bdc7ffbf\"</td>\n",
       "    </tr>\n",
       "    <tr>\n",
       "      <th>4</th>\n",
       "      <td>\"032ddb31-c06f-4a87-8b95-98207e1f89ab\"</td>\n",
       "      <td>2021-06-15 17:45:31.808544</td>\n",
       "      <td>30.0</td>\n",
       "      <td>0.000045</td>\n",
       "      <td>0.000106</td>\n",
       "      <td>\"731e791d-dd75-44a1-a253-b875bdc7ffbf\"</td>\n",
       "    </tr>\n",
       "  </tbody>\n",
       "</table>\n",
       "</div>"
      ],
      "text/plain": [
       "                                       id                   timestamp  \\\n",
       "0  \"09f00cfb-0f8c-4322-b717-fe21351af364\"  2021-06-15 17:47:31.798113   \n",
       "1  \"37c1e971-4818-444b-b155-93482e1e5877\"  2021-06-15 17:47:01.831489   \n",
       "2  \"741059bd-d13c-49a4-96ca-7bf3f90d3c90\"  2021-06-15 17:46:31.790478   \n",
       "3  \"364532c6-0b27-44f8-8372-c557a1ac3f62\"  2021-06-15 17:46:01.797756   \n",
       "4  \"032ddb31-c06f-4a87-8b95-98207e1f89ab\"  2021-06-15 17:45:31.808544   \n",
       "\n",
       "   duration  emissions  energy_consumed  \\\n",
       "0      29.0   0.000052         0.000123   \n",
       "1      30.0   0.000044         0.000104   \n",
       "2      30.0   0.000054         0.000126   \n",
       "3      29.0   0.000043         0.000102   \n",
       "4      30.0   0.000045         0.000106   \n",
       "\n",
       "                                   run_id  \n",
       "0  \"731e791d-dd75-44a1-a253-b875bdc7ffbf\"  \n",
       "1  \"731e791d-dd75-44a1-a253-b875bdc7ffbf\"  \n",
       "2  \"731e791d-dd75-44a1-a253-b875bdc7ffbf\"  \n",
       "3  \"731e791d-dd75-44a1-a253-b875bdc7ffbf\"  \n",
       "4  \"731e791d-dd75-44a1-a253-b875bdc7ffbf\"  "
      ]
     },
     "execution_count": 13,
     "metadata": {},
     "output_type": "execute_result"
    }
   ],
   "source": [
    "df_api.head()"
   ]
  },
  {
   "cell_type": "code",
   "execution_count": 12,
   "metadata": {},
   "outputs": [
    {
     "name": "stdout",
     "output_type": "stream",
     "text": [
      "Dash app running on http://127.0.0.1:8050/\n"
     ]
    }
   ],
   "source": [
    "# Build App\n",
    "app = JupyterDash(__name__)\n",
    "app.layout = html.Div([\n",
    "    html.H1(\"Energy Consumed\"),\n",
    "    dcc.Graph(id='graph'),\n",
    "    html.Label([\n",
    "        \"colorscale\",\n",
    "        dcc.Dropdown(\n",
    "            id='colorscale-dropdown', clearable=False,\n",
    "            value='plasma', options=[\n",
    "                {'label': c, 'value': c}\n",
    "                for c in px.colors.named_colorscales()\n",
    "            ])\n",
    "    ]),\n",
    "])\n",
    "\n",
    "# Define callback to update graph\n",
    "@app.callback(\n",
    "    Output('graph', 'figure'),\n",
    "    [Input(\"colorscale-dropdown\", \"value\")]\n",
    ")\n",
    "def update_figure(colorscale):\n",
    "    return px.scatter(\n",
    "        df_api, x=\"timestamp\", y=\"energy_consumed\", color=\"emissions\",\n",
    "        color_continuous_scale=colorscale,\n",
    "        render_mode=\"webgl\", title=\"Tips\"\n",
    "    )\n",
    "\n",
    "# Run app and display result inline in the notebook\n",
    "app.run_server(mode=DISPLAY_MODE)"
   ]
  },
  {
   "cell_type": "code",
   "execution_count": null,
   "metadata": {},
   "outputs": [],
   "source": []
  }
 ],
 "metadata": {
  "interpreter": {
   "hash": "fb9fa48626cef08df783553c5b1796de4d5ccd3879af604460ecd3245d8abb4d"
  },
  "kernelspec": {
   "display_name": "Python 3.8.10 64-bit ('codecarbon': conda)",
   "name": "python3"
  },
  "language_info": {
   "codemirror_mode": {
    "name": "ipython",
    "version": 3
   },
   "file_extension": ".py",
   "mimetype": "text/x-python",
   "name": "python",
   "nbconvert_exporter": "python",
   "pygments_lexer": "ipython3",
   "version": "3.8.10"
  },
  "orig_nbformat": 4
 },
 "nbformat": 4,
 "nbformat_minor": 2
}